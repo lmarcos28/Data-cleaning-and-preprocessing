{
  "nbformat": 4,
  "nbformat_minor": 0,
  "metadata": {
    "colab": {
      "provenance": [],
      "authorship_tag": "ABX9TyOv0Kw6ifiYhqWTt3QA+rt/",
      "include_colab_link": true
    },
    "kernelspec": {
      "name": "python3",
      "display_name": "Python 3"
    },
    "language_info": {
      "name": "python"
    }
  },
  "cells": [
    {
      "cell_type": "markdown",
      "metadata": {
        "id": "view-in-github",
        "colab_type": "text"
      },
      "source": [
        "<a href=\"https://colab.research.google.com/github/lmarcos28/Data-cleaning-and-preprocessing/blob/main/LinkedIn_jobs_usa.ipynb\" target=\"_parent\"><img src=\"https://colab.research.google.com/assets/colab-badge.svg\" alt=\"Open In Colab\"/></a>"
      ]
    },
    {
      "cell_type": "markdown",
      "source": [
        "**IMPORTAR LIBRERÍAS NECESARIAS**"
      ],
      "metadata": {
        "id": "HB7PvFpZL78q"
      }
    },
    {
      "cell_type": "code",
      "source": [
        "import pandas as pd\n",
        "import numpy as np\n",
        "import matplotlib.pyplot as plt\n",
        "import seaborn as sns\n",
        "\n",
        "# Activa las tablas interactivas\n",
        "%load_ext google.colab.data_table\n",
        "\n",
        "from google.colab import files"
      ],
      "metadata": {
        "colab": {
          "base_uri": "https://localhost:8080/"
        },
        "id": "EkYf9hMHMNyB",
        "outputId": "f85bd755-a126-46b1-a62b-0edb9e5b0846"
      },
      "execution_count": 44,
      "outputs": [
        {
          "output_type": "stream",
          "name": "stdout",
          "text": [
            "The google.colab.data_table extension is already loaded. To reload it, use:\n",
            "  %reload_ext google.colab.data_table\n"
          ]
        }
      ]
    },
    {
      "cell_type": "markdown",
      "source": [
        "**IMPORTAR ARCHIVO CSV**"
      ],
      "metadata": {
        "id": "cmWLbX6VMqVK"
      }
    },
    {
      "cell_type": "code",
      "source": [
        "upload = files.upload()\n"
      ],
      "metadata": {
        "colab": {
          "base_uri": "https://localhost:8080/",
          "height": 73
        },
        "id": "LNC2NuREMYPv",
        "outputId": "6dd5eb1e-38f5-416b-89a6-89ba25ded860"
      },
      "execution_count": 45,
      "outputs": [
        {
          "output_type": "display_data",
          "data": {
            "text/plain": [
              "<IPython.core.display.HTML object>"
            ],
            "text/html": [
              "\n",
              "     <input type=\"file\" id=\"files-662d2145-0d8a-4e7d-ad8f-d256d5be84d1\" name=\"files[]\" multiple disabled\n",
              "        style=\"border:none\" />\n",
              "     <output id=\"result-662d2145-0d8a-4e7d-ad8f-d256d5be84d1\">\n",
              "      Upload widget is only available when the cell has been executed in the\n",
              "      current browser session. Please rerun this cell to enable.\n",
              "      </output>\n",
              "      <script>// Copyright 2017 Google LLC\n",
              "//\n",
              "// Licensed under the Apache License, Version 2.0 (the \"License\");\n",
              "// you may not use this file except in compliance with the License.\n",
              "// You may obtain a copy of the License at\n",
              "//\n",
              "//      http://www.apache.org/licenses/LICENSE-2.0\n",
              "//\n",
              "// Unless required by applicable law or agreed to in writing, software\n",
              "// distributed under the License is distributed on an \"AS IS\" BASIS,\n",
              "// WITHOUT WARRANTIES OR CONDITIONS OF ANY KIND, either express or implied.\n",
              "// See the License for the specific language governing permissions and\n",
              "// limitations under the License.\n",
              "\n",
              "/**\n",
              " * @fileoverview Helpers for google.colab Python module.\n",
              " */\n",
              "(function(scope) {\n",
              "function span(text, styleAttributes = {}) {\n",
              "  const element = document.createElement('span');\n",
              "  element.textContent = text;\n",
              "  for (const key of Object.keys(styleAttributes)) {\n",
              "    element.style[key] = styleAttributes[key];\n",
              "  }\n",
              "  return element;\n",
              "}\n",
              "\n",
              "// Max number of bytes which will be uploaded at a time.\n",
              "const MAX_PAYLOAD_SIZE = 100 * 1024;\n",
              "\n",
              "function _uploadFiles(inputId, outputId) {\n",
              "  const steps = uploadFilesStep(inputId, outputId);\n",
              "  const outputElement = document.getElementById(outputId);\n",
              "  // Cache steps on the outputElement to make it available for the next call\n",
              "  // to uploadFilesContinue from Python.\n",
              "  outputElement.steps = steps;\n",
              "\n",
              "  return _uploadFilesContinue(outputId);\n",
              "}\n",
              "\n",
              "// This is roughly an async generator (not supported in the browser yet),\n",
              "// where there are multiple asynchronous steps and the Python side is going\n",
              "// to poll for completion of each step.\n",
              "// This uses a Promise to block the python side on completion of each step,\n",
              "// then passes the result of the previous step as the input to the next step.\n",
              "function _uploadFilesContinue(outputId) {\n",
              "  const outputElement = document.getElementById(outputId);\n",
              "  const steps = outputElement.steps;\n",
              "\n",
              "  const next = steps.next(outputElement.lastPromiseValue);\n",
              "  return Promise.resolve(next.value.promise).then((value) => {\n",
              "    // Cache the last promise value to make it available to the next\n",
              "    // step of the generator.\n",
              "    outputElement.lastPromiseValue = value;\n",
              "    return next.value.response;\n",
              "  });\n",
              "}\n",
              "\n",
              "/**\n",
              " * Generator function which is called between each async step of the upload\n",
              " * process.\n",
              " * @param {string} inputId Element ID of the input file picker element.\n",
              " * @param {string} outputId Element ID of the output display.\n",
              " * @return {!Iterable<!Object>} Iterable of next steps.\n",
              " */\n",
              "function* uploadFilesStep(inputId, outputId) {\n",
              "  const inputElement = document.getElementById(inputId);\n",
              "  inputElement.disabled = false;\n",
              "\n",
              "  const outputElement = document.getElementById(outputId);\n",
              "  outputElement.innerHTML = '';\n",
              "\n",
              "  const pickedPromise = new Promise((resolve) => {\n",
              "    inputElement.addEventListener('change', (e) => {\n",
              "      resolve(e.target.files);\n",
              "    });\n",
              "  });\n",
              "\n",
              "  const cancel = document.createElement('button');\n",
              "  inputElement.parentElement.appendChild(cancel);\n",
              "  cancel.textContent = 'Cancel upload';\n",
              "  const cancelPromise = new Promise((resolve) => {\n",
              "    cancel.onclick = () => {\n",
              "      resolve(null);\n",
              "    };\n",
              "  });\n",
              "\n",
              "  // Wait for the user to pick the files.\n",
              "  const files = yield {\n",
              "    promise: Promise.race([pickedPromise, cancelPromise]),\n",
              "    response: {\n",
              "      action: 'starting',\n",
              "    }\n",
              "  };\n",
              "\n",
              "  cancel.remove();\n",
              "\n",
              "  // Disable the input element since further picks are not allowed.\n",
              "  inputElement.disabled = true;\n",
              "\n",
              "  if (!files) {\n",
              "    return {\n",
              "      response: {\n",
              "        action: 'complete',\n",
              "      }\n",
              "    };\n",
              "  }\n",
              "\n",
              "  for (const file of files) {\n",
              "    const li = document.createElement('li');\n",
              "    li.append(span(file.name, {fontWeight: 'bold'}));\n",
              "    li.append(span(\n",
              "        `(${file.type || 'n/a'}) - ${file.size} bytes, ` +\n",
              "        `last modified: ${\n",
              "            file.lastModifiedDate ? file.lastModifiedDate.toLocaleDateString() :\n",
              "                                    'n/a'} - `));\n",
              "    const percent = span('0% done');\n",
              "    li.appendChild(percent);\n",
              "\n",
              "    outputElement.appendChild(li);\n",
              "\n",
              "    const fileDataPromise = new Promise((resolve) => {\n",
              "      const reader = new FileReader();\n",
              "      reader.onload = (e) => {\n",
              "        resolve(e.target.result);\n",
              "      };\n",
              "      reader.readAsArrayBuffer(file);\n",
              "    });\n",
              "    // Wait for the data to be ready.\n",
              "    let fileData = yield {\n",
              "      promise: fileDataPromise,\n",
              "      response: {\n",
              "        action: 'continue',\n",
              "      }\n",
              "    };\n",
              "\n",
              "    // Use a chunked sending to avoid message size limits. See b/62115660.\n",
              "    let position = 0;\n",
              "    do {\n",
              "      const length = Math.min(fileData.byteLength - position, MAX_PAYLOAD_SIZE);\n",
              "      const chunk = new Uint8Array(fileData, position, length);\n",
              "      position += length;\n",
              "\n",
              "      const base64 = btoa(String.fromCharCode.apply(null, chunk));\n",
              "      yield {\n",
              "        response: {\n",
              "          action: 'append',\n",
              "          file: file.name,\n",
              "          data: base64,\n",
              "        },\n",
              "      };\n",
              "\n",
              "      let percentDone = fileData.byteLength === 0 ?\n",
              "          100 :\n",
              "          Math.round((position / fileData.byteLength) * 100);\n",
              "      percent.textContent = `${percentDone}% done`;\n",
              "\n",
              "    } while (position < fileData.byteLength);\n",
              "  }\n",
              "\n",
              "  // All done.\n",
              "  yield {\n",
              "    response: {\n",
              "      action: 'complete',\n",
              "    }\n",
              "  };\n",
              "}\n",
              "\n",
              "scope.google = scope.google || {};\n",
              "scope.google.colab = scope.google.colab || {};\n",
              "scope.google.colab._files = {\n",
              "  _uploadFiles,\n",
              "  _uploadFilesContinue,\n",
              "};\n",
              "})(self);\n",
              "</script> "
            ]
          },
          "metadata": {}
        },
        {
          "output_type": "stream",
          "name": "stdout",
          "text": [
            "Saving linkedin-jobs-usa.csv to linkedin-jobs-usa.csv\n"
          ]
        }
      ]
    },
    {
      "cell_type": "markdown",
      "source": [
        "**LEER ARCHIVO CSV**"
      ],
      "metadata": {
        "id": "Cs2RvqNjPpQR"
      }
    },
    {
      "cell_type": "code",
      "source": [
        "df = pd.read_csv('linkedin-jobs-usa.csv')"
      ],
      "metadata": {
        "id": "dge6OK1HPs0Z"
      },
      "execution_count": 46,
      "outputs": []
    },
    {
      "cell_type": "markdown",
      "source": [
        "**EXPLORACIÓN INICIAL**"
      ],
      "metadata": {
        "id": "8iqM7odbMu06"
      }
    },
    {
      "cell_type": "code",
      "source": [
        "#Tamaño del dataset\n",
        "print('El tamaño del dataset es (filas * columnas):',df.shape)\n",
        "\n",
        "#Visualizar las primeras filas\n",
        "print('Las primeras filas del dataset son:')\n",
        "display(df.head(2))\n",
        "df.info()\n"
      ],
      "metadata": {
        "colab": {
          "base_uri": "https://localhost:8080/",
          "height": 4358
        },
        "id": "VkaNnieqSC8U",
        "outputId": "b9b24244-c70f-4a12-bd67-6ceb0bfd6297"
      },
      "execution_count": 47,
      "outputs": [
        {
          "output_type": "stream",
          "name": "stdout",
          "text": [
            "El tamaño del dataset es (filas * columnas): (2845, 9)\n",
            "Las primeras filas del dataset son:\n"
          ]
        },
        {
          "output_type": "display_data",
          "data": {
            "text/plain": [
              "                            title company  \\\n",
              "0  Data Analyst - Recent Graduate  PayPal   \n",
              "1  Data Analyst - Recent Graduate  PayPal   \n",
              "\n",
              "                                         description onsite_remote salary  \\\n",
              "0  At PayPal (NASDAQ: PYPL), we believe that ever...        onsite    NaN   \n",
              "1  At PayPal (NASDAQ: PYPL), we believe that ever...        onsite    NaN   \n",
              "\n",
              "                     location  \\\n",
              "0  Buffalo-Niagara Falls Area   \n",
              "1                San Jose, CA   \n",
              "\n",
              "                                            criteria posted_date  \\\n",
              "0  [{'Seniority level': 'Not Applicable'}, {'Empl...  2022-11-22   \n",
              "1  [{'Seniority level': 'Not Applicable'}, {'Empl...  2022-11-22   \n",
              "\n",
              "                                                link  \n",
              "0  https://www.linkedin.com/jobs/view/data-analys...  \n",
              "1  https://www.linkedin.com/jobs/view/data-analys...  "
            ],
            "text/html": [
              "\n",
              "  <div id=\"df-1fa44bac-1b53-4d9b-b7cb-ba124cd3cc29\" class=\"colab-df-container\">\n",
              "    <div>\n",
              "<style scoped>\n",
              "    .dataframe tbody tr th:only-of-type {\n",
              "        vertical-align: middle;\n",
              "    }\n",
              "\n",
              "    .dataframe tbody tr th {\n",
              "        vertical-align: top;\n",
              "    }\n",
              "\n",
              "    .dataframe thead th {\n",
              "        text-align: right;\n",
              "    }\n",
              "</style>\n",
              "<table border=\"1\" class=\"dataframe\">\n",
              "  <thead>\n",
              "    <tr style=\"text-align: right;\">\n",
              "      <th></th>\n",
              "      <th>title</th>\n",
              "      <th>company</th>\n",
              "      <th>description</th>\n",
              "      <th>onsite_remote</th>\n",
              "      <th>salary</th>\n",
              "      <th>location</th>\n",
              "      <th>criteria</th>\n",
              "      <th>posted_date</th>\n",
              "      <th>link</th>\n",
              "    </tr>\n",
              "  </thead>\n",
              "  <tbody>\n",
              "    <tr>\n",
              "      <th>0</th>\n",
              "      <td>Data Analyst - Recent Graduate</td>\n",
              "      <td>PayPal</td>\n",
              "      <td>At PayPal (NASDAQ: PYPL), we believe that ever...</td>\n",
              "      <td>onsite</td>\n",
              "      <td>NaN</td>\n",
              "      <td>Buffalo-Niagara Falls Area</td>\n",
              "      <td>[{'Seniority level': 'Not Applicable'}, {'Empl...</td>\n",
              "      <td>2022-11-22</td>\n",
              "      <td>https://www.linkedin.com/jobs/view/data-analys...</td>\n",
              "    </tr>\n",
              "    <tr>\n",
              "      <th>1</th>\n",
              "      <td>Data Analyst - Recent Graduate</td>\n",
              "      <td>PayPal</td>\n",
              "      <td>At PayPal (NASDAQ: PYPL), we believe that ever...</td>\n",
              "      <td>onsite</td>\n",
              "      <td>NaN</td>\n",
              "      <td>San Jose, CA</td>\n",
              "      <td>[{'Seniority level': 'Not Applicable'}, {'Empl...</td>\n",
              "      <td>2022-11-22</td>\n",
              "      <td>https://www.linkedin.com/jobs/view/data-analys...</td>\n",
              "    </tr>\n",
              "  </tbody>\n",
              "</table>\n",
              "</div>\n",
              "    <div class=\"colab-df-buttons\">\n",
              "\n",
              "  <div class=\"colab-df-container\">\n",
              "    <button class=\"colab-df-convert\" onclick=\"convertToInteractive('df-1fa44bac-1b53-4d9b-b7cb-ba124cd3cc29')\"\n",
              "            title=\"Convert this dataframe to an interactive table.\"\n",
              "            style=\"display:none;\">\n",
              "\n",
              "  <svg xmlns=\"http://www.w3.org/2000/svg\" height=\"24px\" viewBox=\"0 -960 960 960\">\n",
              "    <path d=\"M120-120v-720h720v720H120Zm60-500h600v-160H180v160Zm220 220h160v-160H400v160Zm0 220h160v-160H400v160ZM180-400h160v-160H180v160Zm440 0h160v-160H620v160ZM180-180h160v-160H180v160Zm440 0h160v-160H620v160Z\"/>\n",
              "  </svg>\n",
              "    </button>\n",
              "\n",
              "  <style>\n",
              "    .colab-df-container {\n",
              "      display:flex;\n",
              "      gap: 12px;\n",
              "    }\n",
              "\n",
              "    .colab-df-convert {\n",
              "      background-color: #E8F0FE;\n",
              "      border: none;\n",
              "      border-radius: 50%;\n",
              "      cursor: pointer;\n",
              "      display: none;\n",
              "      fill: #1967D2;\n",
              "      height: 32px;\n",
              "      padding: 0 0 0 0;\n",
              "      width: 32px;\n",
              "    }\n",
              "\n",
              "    .colab-df-convert:hover {\n",
              "      background-color: #E2EBFA;\n",
              "      box-shadow: 0px 1px 2px rgba(60, 64, 67, 0.3), 0px 1px 3px 1px rgba(60, 64, 67, 0.15);\n",
              "      fill: #174EA6;\n",
              "    }\n",
              "\n",
              "    .colab-df-buttons div {\n",
              "      margin-bottom: 4px;\n",
              "    }\n",
              "\n",
              "    [theme=dark] .colab-df-convert {\n",
              "      background-color: #3B4455;\n",
              "      fill: #D2E3FC;\n",
              "    }\n",
              "\n",
              "    [theme=dark] .colab-df-convert:hover {\n",
              "      background-color: #434B5C;\n",
              "      box-shadow: 0px 1px 3px 1px rgba(0, 0, 0, 0.15);\n",
              "      filter: drop-shadow(0px 1px 2px rgba(0, 0, 0, 0.3));\n",
              "      fill: #FFFFFF;\n",
              "    }\n",
              "  </style>\n",
              "\n",
              "    <script>\n",
              "      const buttonEl =\n",
              "        document.querySelector('#df-1fa44bac-1b53-4d9b-b7cb-ba124cd3cc29 button.colab-df-convert');\n",
              "      buttonEl.style.display =\n",
              "        google.colab.kernel.accessAllowed ? 'block' : 'none';\n",
              "\n",
              "      async function convertToInteractive(key) {\n",
              "        const element = document.querySelector('#df-1fa44bac-1b53-4d9b-b7cb-ba124cd3cc29');\n",
              "        const dataTable =\n",
              "          await google.colab.kernel.invokeFunction('convertToInteractive',\n",
              "                                                    [key], {});\n",
              "        if (!dataTable) return;\n",
              "\n",
              "        const docLinkHtml = 'Like what you see? Visit the ' +\n",
              "          '<a target=\"_blank\" href=https://colab.research.google.com/notebooks/data_table.ipynb>data table notebook</a>'\n",
              "          + ' to learn more about interactive tables.';\n",
              "        element.innerHTML = '';\n",
              "        dataTable['output_type'] = 'display_data';\n",
              "        await google.colab.output.renderOutput(dataTable, element);\n",
              "        const docLink = document.createElement('div');\n",
              "        docLink.innerHTML = docLinkHtml;\n",
              "        element.appendChild(docLink);\n",
              "      }\n",
              "    </script>\n",
              "  </div>\n",
              "\n",
              "\n",
              "    <div id=\"df-62657900-09f3-4b8d-942a-ac350c6ae4ae\">\n",
              "      <button class=\"colab-df-quickchart\" onclick=\"quickchart('df-62657900-09f3-4b8d-942a-ac350c6ae4ae')\"\n",
              "                title=\"Suggest charts\"\n",
              "                style=\"display:none;\">\n",
              "\n",
              "<svg xmlns=\"http://www.w3.org/2000/svg\" height=\"24px\"viewBox=\"0 0 24 24\"\n",
              "     width=\"24px\">\n",
              "    <g>\n",
              "        <path d=\"M19 3H5c-1.1 0-2 .9-2 2v14c0 1.1.9 2 2 2h14c1.1 0 2-.9 2-2V5c0-1.1-.9-2-2-2zM9 17H7v-7h2v7zm4 0h-2V7h2v10zm4 0h-2v-4h2v4z\"/>\n",
              "    </g>\n",
              "</svg>\n",
              "      </button>\n",
              "\n",
              "<style>\n",
              "  .colab-df-quickchart {\n",
              "      --bg-color: #E8F0FE;\n",
              "      --fill-color: #1967D2;\n",
              "      --hover-bg-color: #E2EBFA;\n",
              "      --hover-fill-color: #174EA6;\n",
              "      --disabled-fill-color: #AAA;\n",
              "      --disabled-bg-color: #DDD;\n",
              "  }\n",
              "\n",
              "  [theme=dark] .colab-df-quickchart {\n",
              "      --bg-color: #3B4455;\n",
              "      --fill-color: #D2E3FC;\n",
              "      --hover-bg-color: #434B5C;\n",
              "      --hover-fill-color: #FFFFFF;\n",
              "      --disabled-bg-color: #3B4455;\n",
              "      --disabled-fill-color: #666;\n",
              "  }\n",
              "\n",
              "  .colab-df-quickchart {\n",
              "    background-color: var(--bg-color);\n",
              "    border: none;\n",
              "    border-radius: 50%;\n",
              "    cursor: pointer;\n",
              "    display: none;\n",
              "    fill: var(--fill-color);\n",
              "    height: 32px;\n",
              "    padding: 0;\n",
              "    width: 32px;\n",
              "  }\n",
              "\n",
              "  .colab-df-quickchart:hover {\n",
              "    background-color: var(--hover-bg-color);\n",
              "    box-shadow: 0 1px 2px rgba(60, 64, 67, 0.3), 0 1px 3px 1px rgba(60, 64, 67, 0.15);\n",
              "    fill: var(--button-hover-fill-color);\n",
              "  }\n",
              "\n",
              "  .colab-df-quickchart-complete:disabled,\n",
              "  .colab-df-quickchart-complete:disabled:hover {\n",
              "    background-color: var(--disabled-bg-color);\n",
              "    fill: var(--disabled-fill-color);\n",
              "    box-shadow: none;\n",
              "  }\n",
              "\n",
              "  .colab-df-spinner {\n",
              "    border: 2px solid var(--fill-color);\n",
              "    border-color: transparent;\n",
              "    border-bottom-color: var(--fill-color);\n",
              "    animation:\n",
              "      spin 1s steps(1) infinite;\n",
              "  }\n",
              "\n",
              "  @keyframes spin {\n",
              "    0% {\n",
              "      border-color: transparent;\n",
              "      border-bottom-color: var(--fill-color);\n",
              "      border-left-color: var(--fill-color);\n",
              "    }\n",
              "    20% {\n",
              "      border-color: transparent;\n",
              "      border-left-color: var(--fill-color);\n",
              "      border-top-color: var(--fill-color);\n",
              "    }\n",
              "    30% {\n",
              "      border-color: transparent;\n",
              "      border-left-color: var(--fill-color);\n",
              "      border-top-color: var(--fill-color);\n",
              "      border-right-color: var(--fill-color);\n",
              "    }\n",
              "    40% {\n",
              "      border-color: transparent;\n",
              "      border-right-color: var(--fill-color);\n",
              "      border-top-color: var(--fill-color);\n",
              "    }\n",
              "    60% {\n",
              "      border-color: transparent;\n",
              "      border-right-color: var(--fill-color);\n",
              "    }\n",
              "    80% {\n",
              "      border-color: transparent;\n",
              "      border-right-color: var(--fill-color);\n",
              "      border-bottom-color: var(--fill-color);\n",
              "    }\n",
              "    90% {\n",
              "      border-color: transparent;\n",
              "      border-bottom-color: var(--fill-color);\n",
              "    }\n",
              "  }\n",
              "</style>\n",
              "\n",
              "      <script>\n",
              "        async function quickchart(key) {\n",
              "          const quickchartButtonEl =\n",
              "            document.querySelector('#' + key + ' button');\n",
              "          quickchartButtonEl.disabled = true;  // To prevent multiple clicks.\n",
              "          quickchartButtonEl.classList.add('colab-df-spinner');\n",
              "          try {\n",
              "            const charts = await google.colab.kernel.invokeFunction(\n",
              "                'suggestCharts', [key], {});\n",
              "          } catch (error) {\n",
              "            console.error('Error during call to suggestCharts:', error);\n",
              "          }\n",
              "          quickchartButtonEl.classList.remove('colab-df-spinner');\n",
              "          quickchartButtonEl.classList.add('colab-df-quickchart-complete');\n",
              "        }\n",
              "        (() => {\n",
              "          let quickchartButtonEl =\n",
              "            document.querySelector('#df-62657900-09f3-4b8d-942a-ac350c6ae4ae button');\n",
              "          quickchartButtonEl.style.display =\n",
              "            google.colab.kernel.accessAllowed ? 'block' : 'none';\n",
              "        })();\n",
              "      </script>\n",
              "    </div>\n",
              "\n",
              "    </div>\n",
              "  </div>\n"
            ],
            "application/vnd.google.colaboratory.intrinsic+json": {
              "type": "dataframe",
              "repr_error": "Out of range float values are not JSON compliant: nan"
            },
            "application/vnd.google.colaboratory.module+javascript": "\n      import \"https://ssl.gstatic.com/colaboratory/data_table/9e65f7085e7ffcb7/data_table.js\";\n\n      const table = window.createDataTable({\n        data: [[{\n            'v': 0,\n            'f': \"0\",\n        },\n\"Data Analyst - Recent Graduate\",\n\"PayPal\",\n\"At PayPal (NASDAQ: PYPL), we believe that every person has the right to participate fully in the global economy. Our mission is to democratize financial services to ensure that everyone, regardless of background or economic standing, has access to affordable, convenient, and secure products and services to take control of their financial lives.Job Description Summary:We are seeking world-class problem solvers who have a passion for data and a relentless focus on execution and delivery. You will be most successful with a healthy combination of both, technical skills and business acumen. As a Data Analyst you will generate insights by conducting extensive analyses of PayPal\\u2019s rich data. In the process, you will develop a deep understanding of the payments business, our site functionality, further strengthen your analytic, leadership and presentation skills and gain exposure to a wide variety of functional teams within PayPal.Job Description:Key ResponsibilitiesUnderstand how to make data visually appealing and simple to both navigate and comprehend\\u202ffor end-users\\u202f Aggregate data from various sources to\\u202fconstruct streamlined data pipelines and integrate data from multiple PayPal systems\\u202f Identify key metrics and build exec-facing dashboards to track the progress of the business and its highest priority initiatives Identify key business levers, establish cause & effect, perform analyses, and communicate key findings to various stakeholders to facilitate data driven decision-making Work closely across the matrix with teams like Finance, Marketing, Product, Engineering and senior executives Lead and participate in special projects/initiatives: innovate and implement large-scale quality improvements to processes and/or systems by conducting data analysis and making recommendations, troubleshooting technical issues, and refining processes around customer support\\u202f Basic Requirements:Experience with any or multiple of the following: Python, Java, Tableau, Jupyter Notebooks, Teradata, Hadoop/Hive, Oracle, JavaScript, SQL, Airflow, Linux, Perl, PHP Excellent understanding of computer science fundamentals, data structures, and algorithms Demonstrated experience, familiarity and ease with handling large data sets and crunching numbers Information Retrieval (search/recommendation/classification) experience or Human Judgment/User Interface experience Strong written and verbal communication skills with the ability to translate complex problems into simpler terms, and effectively influence both peers and senior leadership Recent Graduate Position Information and Requirements:This is a Recent Graduate Full-Time position. Must have graduated within the past 12 months, or will be graduating by Spring 2023, with a Bachelor\\u2019s or Master\\u2019s degree in Computer Science, Mathematics, Statistics, or related field from an accredited college or university. Must reside in the U.S. Must be able to obtain authorization to work in the U.S. Application ProcessNote - This job posting is a general advertisement for all PayPal Data Analyst opportunities for recent graduates. Applicants will be asked to complete a skills assessment via HackerRank Following the assessment, applicants will hear back from a University Recruiter with next steps.Position Location: Varies within U.S. PayPal Office LocationsglobaluniversitygraduatedataanalyticsOur Benefits:At PayPal, we\\u2019re committed to building an equitable and inclusive global economy. And we can\\u2019t do this without our most important asset\\u2014you. That\\u2019s why we offer benefits to help you thrive in every stage of life. We champion your financial, physical, and mental health by offering valuable benefits and resources to help you care for the whole you.We have great benefits including a flexible work environment, employee shares options, health and life insurance and more. To learn more about our benefits please visit https://www.paypalbenefits.comWho We Are:To learn more about our culture and community visit https://about.pypl.com/who-we-are/default.aspxPayPal has remained at the forefront of the digital payment revolution for more than 20 years. By leveraging technology to make financial services and commerce more convenient, affordable, and secure, the PayPal platform is empowering more than 400 million consumers and merchants in more than 200 markets to join and thrive in the global economy. For more information, visit paypal.com.PayPal provides equal employment opportunity (EEO) to all persons regardless of age, color, national origin, citizenship status, physical or mental disability, race, religion, creed, gender, sex, pregnancy, sexual orientation, gender identity and/or expression, genetic information, marital status, status with regard to public assistance, veteran status, or any other characteristic protected by federal, state or local law. In addition, PayPal will provide reasonable accommodations for qualified individuals with disabilities. If you are unable to submit an application because of incompatible assistive technology or a disability, please contact us at paypalglobaltalentacquisition@paypal.com.As part of PayPal\\u2019s commitment to employees\\u2019 health and safety, we have established in-office Covid-19 protocols and requirements, based on expert guidance. Depending on location, this might include a Covid-19 vaccination requirement for any employee whose role requires them to work onsite. Employees may request reasonable accommodation based on a medical condition or religious belief that prevents them from being vaccinated.REQ ID R0092223\",\n\"onsite\",\n{\n            'v': NaN,\n            'f': \"NaN\",\n        },\n\"Buffalo-Niagara Falls Area\",\n\"[{'Seniority level': 'Not Applicable'}, {'Employment type': 'Full-time'}, {'Job function': 'Information Technology'}, {'Industries': 'Software Development, Technology, Information and Internet, and Financial Services'}]\",\n\"2022-11-22\",\n\"https://www.linkedin.com/jobs/view/data-analyst-recent-graduate-at-paypal-3364471019?refId=7aKV74baVvH%2FRwNOmaw%2ByA%3D%3D&trackingId=Wl5idVe67zjIVZhL%2BbpNOA%3D%3D&position=1&pageNum=0&trk=public_jobs_jserp-result_search-card\"],\n [{\n            'v': 1,\n            'f': \"1\",\n        },\n\"Data Analyst - Recent Graduate\",\n\"PayPal\",\n\"At PayPal (NASDAQ: PYPL), we believe that every person has the right to participate fully in the global economy. Our mission is to democratize financial services to ensure that everyone, regardless of background or economic standing, has access to affordable, convenient, and secure products and services to take control of their financial lives.Job Description Summary:We are seeking world-class problem solvers who have a passion for data and a relentless focus on execution and delivery. You will be most successful with a healthy combination of both, technical skills and business acumen. As a Data Analyst you will generate insights by conducting extensive analyses of PayPal\\u2019s rich data. In the process, you will develop a deep understanding of the payments business, our site functionality, further strengthen your analytic, leadership and presentation skills and gain exposure to a wide variety of functional teams within PayPal.Job Description:Key ResponsibilitiesUnderstand how to make data visually appealing and simple to both navigate and comprehend\\u202ffor end-users\\u202f Aggregate data from various sources to\\u202fconstruct streamlined data pipelines and integrate data from multiple PayPal systems\\u202f Identify key metrics and build exec-facing dashboards to track the progress of the business and its highest priority initiatives Identify key business levers, establish cause & effect, perform analyses, and communicate key findings to various stakeholders to facilitate data driven decision-making Work closely across the matrix with teams like Finance, Marketing, Product, Engineering and senior executives Lead and participate in special projects/initiatives: innovate and implement large-scale quality improvements to processes and/or systems by conducting data analysis and making recommendations, troubleshooting technical issues, and refining processes around customer support\\u202f Basic Requirements:Experience with any or multiple of the following: Python, Java, Tableau, Jupyter Notebooks, Teradata, Hadoop/Hive, Oracle, JavaScript, SQL, Airflow, Linux, Perl, PHP Excellent understanding of computer science fundamentals, data structures, and algorithms Demonstrated experience, familiarity and ease with handling large data sets and crunching numbers Information Retrieval (search/recommendation/classification) experience or Human Judgment/User Interface experience Strong written and verbal communication skills with the ability to translate complex problems into simpler terms, and effectively influence both peers and senior leadership Recent Graduate Position Information and Requirements:This is a Recent Graduate Full-Time position. Must have graduated within the past 12 months, or will be graduating by Spring 2023, with a Bachelor\\u2019s or Master\\u2019s degree in Computer Science, Mathematics, Statistics, or related field from an accredited college or university. Must reside in the U.S. Must be able to obtain authorization to work in the U.S. Application ProcessNote - This job posting is a general advertisement for all PayPal Data Analyst opportunities for recent graduates. Applicants will be asked to complete a skills assessment via HackerRank Following the assessment, applicants will hear back from a University Recruiter with next steps.Position Location: Varies within U.S. PayPal Office LocationsglobaluniversitygraduatedataanalyticsOur Benefits:At PayPal, we\\u2019re committed to building an equitable and inclusive global economy. And we can\\u2019t do this without our most important asset\\u2014you. That\\u2019s why we offer benefits to help you thrive in every stage of life. We champion your financial, physical, and mental health by offering valuable benefits and resources to help you care for the whole you.We have great benefits including a flexible work environment, employee shares options, health and life insurance and more. To learn more about our benefits please visit https://www.paypalbenefits.comWho We Are:To learn more about our culture and community visit https://about.pypl.com/who-we-are/default.aspxPayPal has remained at the forefront of the digital payment revolution for more than 20 years. By leveraging technology to make financial services and commerce more convenient, affordable, and secure, the PayPal platform is empowering more than 400 million consumers and merchants in more than 200 markets to join and thrive in the global economy. For more information, visit paypal.com.PayPal provides equal employment opportunity (EEO) to all persons regardless of age, color, national origin, citizenship status, physical or mental disability, race, religion, creed, gender, sex, pregnancy, sexual orientation, gender identity and/or expression, genetic information, marital status, status with regard to public assistance, veteran status, or any other characteristic protected by federal, state or local law. In addition, PayPal will provide reasonable accommodations for qualified individuals with disabilities. If you are unable to submit an application because of incompatible assistive technology or a disability, please contact us at paypalglobaltalentacquisition@paypal.com.As part of PayPal\\u2019s commitment to employees\\u2019 health and safety, we have established in-office Covid-19 protocols and requirements, based on expert guidance. Depending on location, this might include a Covid-19 vaccination requirement for any employee whose role requires them to work onsite. Employees may request reasonable accommodation based on a medical condition or religious belief that prevents them from being vaccinated.REQ ID R0092223\",\n\"onsite\",\n{\n            'v': NaN,\n            'f': \"NaN\",\n        },\n\"San Jose, CA\",\n\"[{'Seniority level': 'Not Applicable'}, {'Employment type': 'Full-time'}, {'Job function': 'Information Technology'}, {'Industries': 'Software Development, Technology, Information and Internet, and Financial Services'}]\",\n\"2022-11-22\",\n\"https://www.linkedin.com/jobs/view/data-analyst-recent-graduate-at-paypal-3364467390?refId=7aKV74baVvH%2FRwNOmaw%2ByA%3D%3D&trackingId=3IOGqlhBDgIdKd%2F48MX8BA%3D%3D&position=2&pageNum=0&trk=public_jobs_jserp-result_search-card\"]],\n        columns: [[\"number\", \"index\"], [\"string\", \"title\"], [\"string\", \"company\"], [\"string\", \"description\"], [\"string\", \"onsite_remote\"], [\"number\", \"salary\"], [\"string\", \"location\"], [\"string\", \"criteria\"], [\"string\", \"posted_date\"], [\"string\", \"link\"]],\n        columnOptions: [{\"width\": \"1px\", \"className\": \"index_column\"}],\n        rowsPerPage: 25,\n        helpUrl: \"https://colab.research.google.com/notebooks/data_table.ipynb\",\n        suppressOutputScrolling: true,\n        minimumWidth: undefined,\n      });\n\n      function appendQuickchartButton(parentElement) {\n        let quickchartButtonContainerElement = document.createElement('div');\n        quickchartButtonContainerElement.innerHTML = `\n    <div id=\"df-1392c4ba-4159-4c78-9898-42f822217a10\">\n      <button class=\"colab-df-quickchart\" onclick=\"quickchart('df-1392c4ba-4159-4c78-9898-42f822217a10')\"\n                title=\"Suggest charts\"\n                style=\"display:none;\">\n\n<svg xmlns=\"http://www.w3.org/2000/svg\" height=\"24px\"viewBox=\"0 0 24 24\"\n     width=\"24px\">\n    <g>\n        <path d=\"M19 3H5c-1.1 0-2 .9-2 2v14c0 1.1.9 2 2 2h14c1.1 0 2-.9 2-2V5c0-1.1-.9-2-2-2zM9 17H7v-7h2v7zm4 0h-2V7h2v10zm4 0h-2v-4h2v4z\"/>\n    </g>\n</svg>\n      </button>\n\n<style>\n  .colab-df-quickchart {\n      --bg-color: #E8F0FE;\n      --fill-color: #1967D2;\n      --hover-bg-color: #E2EBFA;\n      --hover-fill-color: #174EA6;\n      --disabled-fill-color: #AAA;\n      --disabled-bg-color: #DDD;\n  }\n\n  [theme=dark] .colab-df-quickchart {\n      --bg-color: #3B4455;\n      --fill-color: #D2E3FC;\n      --hover-bg-color: #434B5C;\n      --hover-fill-color: #FFFFFF;\n      --disabled-bg-color: #3B4455;\n      --disabled-fill-color: #666;\n  }\n\n  .colab-df-quickchart {\n    background-color: var(--bg-color);\n    border: none;\n    border-radius: 50%;\n    cursor: pointer;\n    display: none;\n    fill: var(--fill-color);\n    height: 32px;\n    padding: 0;\n    width: 32px;\n  }\n\n  .colab-df-quickchart:hover {\n    background-color: var(--hover-bg-color);\n    box-shadow: 0 1px 2px rgba(60, 64, 67, 0.3), 0 1px 3px 1px rgba(60, 64, 67, 0.15);\n    fill: var(--button-hover-fill-color);\n  }\n\n  .colab-df-quickchart-complete:disabled,\n  .colab-df-quickchart-complete:disabled:hover {\n    background-color: var(--disabled-bg-color);\n    fill: var(--disabled-fill-color);\n    box-shadow: none;\n  }\n\n  .colab-df-spinner {\n    border: 2px solid var(--fill-color);\n    border-color: transparent;\n    border-bottom-color: var(--fill-color);\n    animation:\n      spin 1s steps(1) infinite;\n  }\n\n  @keyframes spin {\n    0% {\n      border-color: transparent;\n      border-bottom-color: var(--fill-color);\n      border-left-color: var(--fill-color);\n    }\n    20% {\n      border-color: transparent;\n      border-left-color: var(--fill-color);\n      border-top-color: var(--fill-color);\n    }\n    30% {\n      border-color: transparent;\n      border-left-color: var(--fill-color);\n      border-top-color: var(--fill-color);\n      border-right-color: var(--fill-color);\n    }\n    40% {\n      border-color: transparent;\n      border-right-color: var(--fill-color);\n      border-top-color: var(--fill-color);\n    }\n    60% {\n      border-color: transparent;\n      border-right-color: var(--fill-color);\n    }\n    80% {\n      border-color: transparent;\n      border-right-color: var(--fill-color);\n      border-bottom-color: var(--fill-color);\n    }\n    90% {\n      border-color: transparent;\n      border-bottom-color: var(--fill-color);\n    }\n  }\n</style>\n\n      <script>\n        async function quickchart(key) {\n          const quickchartButtonEl =\n            document.querySelector('#' + key + ' button');\n          quickchartButtonEl.disabled = true;  // To prevent multiple clicks.\n          quickchartButtonEl.classList.add('colab-df-spinner');\n          try {\n            const charts = await google.colab.kernel.invokeFunction(\n                'suggestCharts', [key], {});\n          } catch (error) {\n            console.error('Error during call to suggestCharts:', error);\n          }\n          quickchartButtonEl.classList.remove('colab-df-spinner');\n          quickchartButtonEl.classList.add('colab-df-quickchart-complete');\n        }\n        (() => {\n          let quickchartButtonEl =\n            document.querySelector('#df-1392c4ba-4159-4c78-9898-42f822217a10 button');\n          quickchartButtonEl.style.display =\n            google.colab.kernel.accessAllowed ? 'block' : 'none';\n        })();\n      </script>\n    </div>`;\n        parentElement.appendChild(quickchartButtonContainerElement);\n      }\n\n      appendQuickchartButton(table);\n    "
          },
          "metadata": {}
        },
        {
          "output_type": "stream",
          "name": "stdout",
          "text": [
            "<class 'pandas.core.frame.DataFrame'>\n",
            "RangeIndex: 2845 entries, 0 to 2844\n",
            "Data columns (total 9 columns):\n",
            " #   Column         Non-Null Count  Dtype \n",
            "---  ------         --------------  ----- \n",
            " 0   title          2845 non-null   object\n",
            " 1   company        2845 non-null   object\n",
            " 2   description    2845 non-null   object\n",
            " 3   onsite_remote  2845 non-null   object\n",
            " 4   salary         929 non-null    object\n",
            " 5   location       2845 non-null   object\n",
            " 6   criteria       2845 non-null   object\n",
            " 7   posted_date    2845 non-null   object\n",
            " 8   link           2845 non-null   object\n",
            "dtypes: object(9)\n",
            "memory usage: 200.2+ KB\n"
          ]
        }
      ]
    },
    {
      "cell_type": "markdown",
      "source": [
        "Se han objetido un total de 2872 registros, para todos ellos hay datos disponibles de:\n",
        "\n",
        "1.   Título de puesto\n",
        "2.   Nombre de la compañía\n",
        "3.   Descripción\n",
        "3.   Online/Remoto\n",
        "5.   Localización\n",
        "6.   Criterio\n",
        "7.   Fecha\n",
        "8.   Link\n",
        "\n",
        "Hay unicamente 929 datos disponibles de: **4. Salario**\n"
      ],
      "metadata": {
        "id": "tVFPbAh5USY7"
      }
    },
    {
      "cell_type": "markdown",
      "source": [
        "**TRATAMIENTO DE DATOS**"
      ],
      "metadata": {
        "id": "XHrBzSjrVRZk"
      }
    },
    {
      "cell_type": "code",
      "source": [
        "#ELIMINAR DUPLICADOS\n",
        "\n",
        "df.drop_duplicates()\n",
        "print('El tamaño del dataset con valores nulos es (filas * columnas):',df.shape)\n",
        "df.shape\n",
        "\n",
        "#ELIMINAR AQUELLAS FILAS QUE CONTENGAN ALMENOS UN VALOR NULO\n",
        "df_sin_nulos = df.dropna()\n",
        "print('El tamaño del dataset sin valores nulos (filas * columnas):',df_sin_nulos.shape)\n",
        "df_sin_nulos.shape"
      ],
      "metadata": {
        "colab": {
          "base_uri": "https://localhost:8080/"
        },
        "id": "SfE7w78oVVOh",
        "outputId": "dc86551a-3ec7-4a59-c454-4ccf47d489c3"
      },
      "execution_count": 51,
      "outputs": [
        {
          "output_type": "stream",
          "name": "stdout",
          "text": [
            "El tamaño del dataset con valores nulos es (filas * columnas): (2845, 9)\n",
            "El tamaño del dataset sin valores nulos (filas * columnas): (929, 9)\n"
          ]
        },
        {
          "output_type": "execute_result",
          "data": {
            "text/plain": [
              "(929, 9)"
            ]
          },
          "metadata": {},
          "execution_count": 51
        }
      ]
    },
    {
      "cell_type": "markdown",
      "source": [
        "**REEMPLAZAR AQUELLOS VALORES QUE SEAN NULOS DE SALARIO, POR LA MEDIA**"
      ],
      "metadata": {
        "id": "NJ32rfw9ZIbZ"
      }
    },
    {
      "cell_type": "code",
      "source": [
        "\n",
        "#1. Transformar los valores de salario de string a int\n",
        "df_sin_nulos['salary']"
      ],
      "metadata": {
        "colab": {
          "base_uri": "https://localhost:8080/",
          "height": 458
        },
        "id": "XZuJ4azRYSNS",
        "outputId": "6a5ad1ef-39dd-4f1b-e454-1f4e8e928902"
      },
      "execution_count": 54,
      "outputs": [
        {
          "output_type": "execute_result",
          "data": {
            "text/plain": [
              "8       $100,000.00\\r\\n            -\\r\\n            $1...\n",
              "24      $50,000.00\\r\\n            -\\r\\n            $55...\n",
              "35      $100,000.00\\r\\n            -\\r\\n            $1...\n",
              "61      $100,000.00\\r\\n            -\\r\\n            $1...\n",
              "88      $100,000.00\\r\\n            -\\r\\n            $1...\n",
              "                              ...                        \n",
              "2834        $30.00\\r\\n            -\\r\\n            $33.00\n",
              "2836    $120,000.00\\r\\n            -\\r\\n            $1...\n",
              "2841    $75,000.00\\r\\n            -\\r\\n            $95...\n",
              "2843    $85,000.00\\r\\n            -\\r\\n            $95...\n",
              "2844    $130,000.00\\r\\n            -\\r\\n            $1...\n",
              "Name: salary, Length: 929, dtype: object"
            ],
            "text/html": [
              "<div>\n",
              "<style scoped>\n",
              "    .dataframe tbody tr th:only-of-type {\n",
              "        vertical-align: middle;\n",
              "    }\n",
              "\n",
              "    .dataframe tbody tr th {\n",
              "        vertical-align: top;\n",
              "    }\n",
              "\n",
              "    .dataframe thead th {\n",
              "        text-align: right;\n",
              "    }\n",
              "</style>\n",
              "<table border=\"1\" class=\"dataframe\">\n",
              "  <thead>\n",
              "    <tr style=\"text-align: right;\">\n",
              "      <th></th>\n",
              "      <th>salary</th>\n",
              "    </tr>\n",
              "  </thead>\n",
              "  <tbody>\n",
              "    <tr>\n",
              "      <th>8</th>\n",
              "      <td>$100,000.00\\r\\n            -\\r\\n            $1...</td>\n",
              "    </tr>\n",
              "    <tr>\n",
              "      <th>24</th>\n",
              "      <td>$50,000.00\\r\\n            -\\r\\n            $55...</td>\n",
              "    </tr>\n",
              "    <tr>\n",
              "      <th>35</th>\n",
              "      <td>$100,000.00\\r\\n            -\\r\\n            $1...</td>\n",
              "    </tr>\n",
              "    <tr>\n",
              "      <th>61</th>\n",
              "      <td>$100,000.00\\r\\n            -\\r\\n            $1...</td>\n",
              "    </tr>\n",
              "    <tr>\n",
              "      <th>88</th>\n",
              "      <td>$100,000.00\\r\\n            -\\r\\n            $1...</td>\n",
              "    </tr>\n",
              "    <tr>\n",
              "      <th>...</th>\n",
              "      <td>...</td>\n",
              "    </tr>\n",
              "    <tr>\n",
              "      <th>2834</th>\n",
              "      <td>$30.00\\r\\n            -\\r\\n            $33.00</td>\n",
              "    </tr>\n",
              "    <tr>\n",
              "      <th>2836</th>\n",
              "      <td>$120,000.00\\r\\n            -\\r\\n            $1...</td>\n",
              "    </tr>\n",
              "    <tr>\n",
              "      <th>2841</th>\n",
              "      <td>$75,000.00\\r\\n            -\\r\\n            $95...</td>\n",
              "    </tr>\n",
              "    <tr>\n",
              "      <th>2843</th>\n",
              "      <td>$85,000.00\\r\\n            -\\r\\n            $95...</td>\n",
              "    </tr>\n",
              "    <tr>\n",
              "      <th>2844</th>\n",
              "      <td>$130,000.00\\r\\n            -\\r\\n            $1...</td>\n",
              "    </tr>\n",
              "  </tbody>\n",
              "</table>\n",
              "<p>929 rows × 1 columns</p>\n",
              "</div><br><label><b>dtype:</b> object</label>"
            ]
          },
          "metadata": {},
          "execution_count": 54
        }
      ]
    },
    {
      "cell_type": "code",
      "source": [
        "df_sin_nulos['salary_numeric'] = (\n",
        "    df_sin_nulos['salary']\n",
        "    .str.extract(r'(\\d+(?:\\.\\d+)?)')[0]  # toma el primer número con decimales opcionales\n",
        "    .astype(float)\n",
        ")\n"
      ],
      "metadata": {
        "colab": {
          "base_uri": "https://localhost:8080/"
        },
        "id": "RxJUpygbZR9L",
        "outputId": "53e75250-a4c9-4801-d7fa-629b48fced76"
      },
      "execution_count": 63,
      "outputs": [
        {
          "output_type": "stream",
          "name": "stderr",
          "text": [
            "/tmp/ipython-input-3635464908.py:1: SettingWithCopyWarning: \n",
            "A value is trying to be set on a copy of a slice from a DataFrame.\n",
            "Try using .loc[row_indexer,col_indexer] = value instead\n",
            "\n",
            "See the caveats in the documentation: https://pandas.pydata.org/pandas-docs/stable/user_guide/indexing.html#returning-a-view-versus-a-copy\n",
            "  df_sin_nulos['salary_numeric'] = (\n"
          ]
        }
      ]
    },
    {
      "cell_type": "code",
      "source": [
        "df_sin_nulos['salary_numeric'].describe()"
      ],
      "metadata": {
        "colab": {
          "base_uri": "https://localhost:8080/",
          "height": 335
        },
        "id": "o6n500d3aZca",
        "outputId": "d7978a8e-a535-41a8-f5ff-c08c7a381697"
      },
      "execution_count": 64,
      "outputs": [
        {
          "output_type": "execute_result",
          "data": {
            "text/plain": [
              "count       929.000000\n",
              "mean      47949.657524\n",
              "std       47330.432492\n",
              "min          22.000000\n",
              "25%          40.000000\n",
              "50%       60000.000000\n",
              "75%       85000.000000\n",
              "max      130000.000000\n",
              "Name: salary_numeric, dtype: float64"
            ],
            "text/html": [
              "<div>\n",
              "<style scoped>\n",
              "    .dataframe tbody tr th:only-of-type {\n",
              "        vertical-align: middle;\n",
              "    }\n",
              "\n",
              "    .dataframe tbody tr th {\n",
              "        vertical-align: top;\n",
              "    }\n",
              "\n",
              "    .dataframe thead th {\n",
              "        text-align: right;\n",
              "    }\n",
              "</style>\n",
              "<table border=\"1\" class=\"dataframe\">\n",
              "  <thead>\n",
              "    <tr style=\"text-align: right;\">\n",
              "      <th></th>\n",
              "      <th>salary_numeric</th>\n",
              "    </tr>\n",
              "  </thead>\n",
              "  <tbody>\n",
              "    <tr>\n",
              "      <th>count</th>\n",
              "      <td>929.000000</td>\n",
              "    </tr>\n",
              "    <tr>\n",
              "      <th>mean</th>\n",
              "      <td>47949.657524</td>\n",
              "    </tr>\n",
              "    <tr>\n",
              "      <th>std</th>\n",
              "      <td>47330.432492</td>\n",
              "    </tr>\n",
              "    <tr>\n",
              "      <th>min</th>\n",
              "      <td>22.000000</td>\n",
              "    </tr>\n",
              "    <tr>\n",
              "      <th>25%</th>\n",
              "      <td>40.000000</td>\n",
              "    </tr>\n",
              "    <tr>\n",
              "      <th>50%</th>\n",
              "      <td>60000.000000</td>\n",
              "    </tr>\n",
              "    <tr>\n",
              "      <th>75%</th>\n",
              "      <td>85000.000000</td>\n",
              "    </tr>\n",
              "    <tr>\n",
              "      <th>max</th>\n",
              "      <td>130000.000000</td>\n",
              "    </tr>\n",
              "  </tbody>\n",
              "</table>\n",
              "</div><br><label><b>dtype:</b> float64</label>"
            ]
          },
          "metadata": {},
          "execution_count": 64
        }
      ]
    },
    {
      "cell_type": "code",
      "source": [
        "#Crear un boxplot\n",
        "sns.boxplot(x=df_sin_nulos['salary_numeric'])"
      ],
      "metadata": {
        "colab": {
          "base_uri": "https://localhost:8080/",
          "height": 467
        },
        "id": "bPzDqdZnbZA6",
        "outputId": "ddbf0729-eda6-41d7-dcc5-79bee3c5960f"
      },
      "execution_count": 65,
      "outputs": [
        {
          "output_type": "execute_result",
          "data": {
            "text/plain": [
              "<Axes: xlabel='salary_numeric'>"
            ]
          },
          "metadata": {},
          "execution_count": 65
        },
        {
          "output_type": "display_data",
          "data": {
            "text/plain": [
              "<Figure size 640x480 with 1 Axes>"
            ],
            "image/png": "[encoded data removed]"
          },
          "metadata": {}
        }
      ]
    },
    {
      "cell_type": "code",
      "source": [
        "#Histograma\n",
        "sns.histplot(df_sin_nulos['salary_numeric'], bins=30, color = 'orange', alpha=0.7)\n",
        "\n",
        "#Etiquetas y título\n",
        "plt.xlabel('Salario')\n",
        "plt.ylabel('Frecuencia')\n",
        "plt.title('Histograma de Salarios')\n",
        "\n",
        "#Mostrar el gráfico\n",
        "plt.show()"
      ],
      "metadata": {
        "colab": {
          "base_uri": "https://localhost:8080/",
          "height": 472
        },
        "id": "4RxjhA6bbtD1",
        "outputId": "aa345962-85e3-4184-a257-bf0687080b59"
      },
      "execution_count": 69,
      "outputs": [
        {
          "output_type": "display_data",
          "data": {
            "text/plain": [
              "<Figure size 640x480 with 1 Axes>"
            ],
            "image/png": "[encoded data removed]"
          },
          "metadata": {}
        }
      ]
    },
    {
      "cell_type": "markdown",
      "source": [
        "Los gráficos no son muy útiles, puesto que para determinados puestos de trabajo el salario se indica por hora y para otros por año"
      ],
      "metadata": {
        "id": "4uOTF-aZcU06"
      }
    },
    {
      "cell_type": "code",
      "source": [
        "#FIltramos aquellos datos que tengan un salario mayor a 20000\n",
        "df_sin_nulos = df_sin_nulos[df_sin_nulos['salary_numeric'] > 20000]\n"
      ],
      "metadata": {
        "id": "kQhvHbFXchzJ"
      },
      "execution_count": 79,
      "outputs": []
    },
    {
      "cell_type": "code",
      "source": [
        "#Crear boxplot\n",
        "sns.boxplot(x=df_sin_nulos['salary_numeric'])"
      ],
      "metadata": {
        "colab": {
          "base_uri": "https://localhost:8080/",
          "height": 467
        },
        "id": "Up3Vm6lNc6nS",
        "outputId": "06653c2d-8141-4956-c3d0-2a76d5b6ef94"
      },
      "execution_count": 80,
      "outputs": [
        {
          "output_type": "execute_result",
          "data": {
            "text/plain": [
              "<Axes: xlabel='salary_numeric'>"
            ]
          },
          "metadata": {},
          "execution_count": 80
        },
        {
          "output_type": "display_data",
          "data": {
            "text/plain": [
              "<Figure size 640x480 with 1 Axes>"
            ],
            "image/png": "[encoded data removed]"
          },
          "metadata": {}
        }
      ]
    },
    {
      "cell_type": "code",
      "source": [
        "#crear histograma\n",
        "sns.histplot(df_sin_nulos['salary_numeric'], bins=30, color = 'orange', alpha=0.7)\n",
        "\n",
        "#Titulos y etiquetas\n",
        "plt.xlabel('Salario')\n",
        "plt.ylabel('Frecuencia')\n",
        "plt.title('Histograma de Salarios')\n",
        "\n",
        "#Mostrar el gráfico\n",
        "plt.show()\n"
      ],
      "metadata": {
        "colab": {
          "base_uri": "https://localhost:8080/",
          "height": 472
        },
        "id": "q9n3x75Yc-fp",
        "outputId": "f0ca301c-639d-42c3-fc63-baea96f5f2b3"
      },
      "execution_count": 81,
      "outputs": [
        {
          "output_type": "display_data",
          "data": {
            "text/plain": [
              "<Figure size 640x480 with 1 Axes>"
            ],
            "image/png": "[encoded data removed]"
          },
          "metadata": {}
        }
      ]
    }
  ]
}